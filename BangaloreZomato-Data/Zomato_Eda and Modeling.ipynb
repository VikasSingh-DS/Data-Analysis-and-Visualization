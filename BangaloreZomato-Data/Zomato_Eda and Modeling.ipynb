{
  "nbformat": 4,
  "nbformat_minor": 0,
  "metadata": {
    "colab": {
      "name": "Zomato_modeling.ipynb",
      "provenance": [],
      "collapsed_sections": [],
      "mount_file_id": "1uLadvPW2cFDls6fJVDUp3OFvxjxZz6eo",
      "authorship_tag": "ABX9TyMK27M8lPRU/4a68fxcxr5b",
      "include_colab_link": true
    },
    "kernelspec": {
      "name": "python3",
      "display_name": "Python 3"
    }
  },
  "cells": [
    {
      "cell_type": "markdown",
      "metadata": {
        "id": "view-in-github",
        "colab_type": "text"
      },
      "source": [
        "<a href=\"https://colab.research.google.com/github/VikasSingh-DS/BangaloreZomato-Data-Analysis-and-Pipeline-Modeling/blob/master/Zomato_Eda%20and%20Modeling.ipynb\" target=\"_parent\"><img src=\"https://colab.research.google.com/assets/colab-badge.svg\" alt=\"Open In Colab\"/></a>"
      ]
    },
    {
      "cell_type": "markdown",
      "metadata": {
        "id": "WM3mBQ1xuNH2",
        "colab_type": "text"
      },
      "source": [
        "# 1. Importing Packages and Collecting Data"
      ]
    },
    {
      "cell_type": "code",
      "metadata": {
        "id": "44iSmr86uMx1",
        "colab_type": "code",
        "colab": {}
      },
      "source": [
        "'''Import basic modules'''\n",
        "import pandas as pd\n",
        "import numpy as np\n",
        "\n",
        "'''import visualization tools'''\n",
        "import matplotlib.pyplot as plt\n",
        "import seaborn as sns\n",
        "sns.set_style('whitegrid')\n",
        "%matplotlib inline"
      ],
      "execution_count": 0,
      "outputs": []
    },
    {
      "cell_type": "code",
      "metadata": {
        "id": "CsOP38E0t4rd",
        "colab_type": "code",
        "outputId": "aab46ecc-2139-4015-95b7-e2a3709ae070",
        "colab": {
          "base_uri": "https://localhost:8080/",
          "height": 618
        }
      },
      "source": [
        "'''Read in train and test data from csv files'''\n",
        "data = pd.read_excel('/content/drive/My Drive/zomato_train.xlsx')\n",
        "data.head()"
      ],
      "execution_count": 0,
      "outputs": [
        {
          "output_type": "execute_result",
          "data": {
            "text/html": [
              "<div>\n",
              "<style scoped>\n",
              "    .dataframe tbody tr th:only-of-type {\n",
              "        vertical-align: middle;\n",
              "    }\n",
              "\n",
              "    .dataframe tbody tr th {\n",
              "        vertical-align: top;\n",
              "    }\n",
              "\n",
              "    .dataframe thead th {\n",
              "        text-align: right;\n",
              "    }\n",
              "</style>\n",
              "<table border=\"1\" class=\"dataframe\">\n",
              "  <thead>\n",
              "    <tr style=\"text-align: right;\">\n",
              "      <th></th>\n",
              "      <th>url</th>\n",
              "      <th>address</th>\n",
              "      <th>name</th>\n",
              "      <th>online_order</th>\n",
              "      <th>book_table</th>\n",
              "      <th>votes</th>\n",
              "      <th>phone</th>\n",
              "      <th>location</th>\n",
              "      <th>rest_type</th>\n",
              "      <th>dish_liked</th>\n",
              "      <th>cuisines</th>\n",
              "      <th>approx_cost(for two people)</th>\n",
              "      <th>reviews_list</th>\n",
              "      <th>menu_item</th>\n",
              "      <th>listed_in(type)</th>\n",
              "      <th>listed_in(city)</th>\n",
              "      <th>rates</th>\n",
              "    </tr>\n",
              "  </thead>\n",
              "  <tbody>\n",
              "    <tr>\n",
              "      <th>0</th>\n",
              "      <td>https://www.zomato.com/bangalore/al-swaad-take...</td>\n",
              "      <td>18, Masjid Street, Opp Akbari Masjid Neelasand...</td>\n",
              "      <td>Al Swaad Take Away</td>\n",
              "      <td>Yes</td>\n",
              "      <td>No</td>\n",
              "      <td>13</td>\n",
              "      <td>+91 7019942388\\n+91 9902335220</td>\n",
              "      <td>Richmond Road</td>\n",
              "      <td>Quick Bites</td>\n",
              "      <td>NaN</td>\n",
              "      <td>North Indian, South Indian, Arabian</td>\n",
              "      <td>350</td>\n",
              "      <td>[('Rated 1.0', 'RATED\\n  If U need reasonable ...</td>\n",
              "      <td>['Beef Seekh Kabab', 'Beef BBQ Chops', 'Beef M...</td>\n",
              "      <td>Delivery</td>\n",
              "      <td>Residency Road</td>\n",
              "      <td>3.1</td>\n",
              "    </tr>\n",
              "    <tr>\n",
              "      <th>1</th>\n",
              "      <td>https://www.zomato.com/bangalore/the-boozy-gri...</td>\n",
              "      <td>2nd Floor, 1st A Cross Road, Jyothi Nivas Coll...</td>\n",
              "      <td>The Boozy Griffin</td>\n",
              "      <td>No</td>\n",
              "      <td>Yes</td>\n",
              "      <td>5015</td>\n",
              "      <td>080 33512954</td>\n",
              "      <td>Koramangala 5th Block</td>\n",
              "      <td>Casual Dining, Pub</td>\n",
              "      <td>Cocktails, Craft Beer, Salads, Devils Chicken,...</td>\n",
              "      <td>European, Continental</td>\n",
              "      <td>1,800</td>\n",
              "      <td>[('Rated 5.0', 'RATED\\n  Really great ambience...</td>\n",
              "      <td>[]</td>\n",
              "      <td>Dine-out</td>\n",
              "      <td>Koramangala 6th Block</td>\n",
              "      <td>4.6</td>\n",
              "    </tr>\n",
              "    <tr>\n",
              "      <th>2</th>\n",
              "      <td>https://www.zomato.com/bangalore/barkat-btm-ba...</td>\n",
              "      <td>28th, 8th Cross, Maruthi Nagar, Madiwala, BTM,...</td>\n",
              "      <td>Barkat</td>\n",
              "      <td>No</td>\n",
              "      <td>No</td>\n",
              "      <td>6</td>\n",
              "      <td>+91 9019670836</td>\n",
              "      <td>BTM</td>\n",
              "      <td>Quick Bites</td>\n",
              "      <td>NaN</td>\n",
              "      <td>Kerala</td>\n",
              "      <td>250</td>\n",
              "      <td>[]</td>\n",
              "      <td>[]</td>\n",
              "      <td>Dine-out</td>\n",
              "      <td>Koramangala 4th Block</td>\n",
              "      <td>3.4</td>\n",
              "    </tr>\n",
              "    <tr>\n",
              "      <th>3</th>\n",
              "      <td>https://www.zomato.com/bangalore/sriracha-lave...</td>\n",
              "      <td>204, 2nd Level, 4th Floor, Comet Block, UB Cit...</td>\n",
              "      <td>Sriracha</td>\n",
              "      <td>No</td>\n",
              "      <td>No</td>\n",
              "      <td>699</td>\n",
              "      <td>+91 8041755366\\n+91 7022422473</td>\n",
              "      <td>Lavelle Road</td>\n",
              "      <td>Casual Dining</td>\n",
              "      <td>Noodles, Laksa, Cocktails, Dumplings, Sangria,...</td>\n",
              "      <td>Thai, Chinese, Indonesian, Asian, Momos</td>\n",
              "      <td>1,500</td>\n",
              "      <td>[('Rated 3.0', 'RATED\\n  Another restaurant in...</td>\n",
              "      <td>[]</td>\n",
              "      <td>Dine-out</td>\n",
              "      <td>Residency Road</td>\n",
              "      <td>4.3</td>\n",
              "    </tr>\n",
              "    <tr>\n",
              "      <th>4</th>\n",
              "      <td>https://www.zomato.com/bangalore/sri-ganesh-ju...</td>\n",
              "      <td>513, Opposite Ganesh Temple, Koramangala 8th B...</td>\n",
              "      <td>Sri Ganesh Juice Junction</td>\n",
              "      <td>Yes</td>\n",
              "      <td>No</td>\n",
              "      <td>129</td>\n",
              "      <td>+91 9845623889</td>\n",
              "      <td>Koramangala 8th Block</td>\n",
              "      <td>Beverage Shop</td>\n",
              "      <td>NaN</td>\n",
              "      <td>Juices, Fast Food</td>\n",
              "      <td>150</td>\n",
              "      <td>[('Rated 4.0', 'RATED\\n  Good cafe with most v...</td>\n",
              "      <td>['Dry Fruit Milkshake', 'Wheat Grass with Wate...</td>\n",
              "      <td>Delivery</td>\n",
              "      <td>Koramangala 6th Block</td>\n",
              "      <td>3.7</td>\n",
              "    </tr>\n",
              "  </tbody>\n",
              "</table>\n",
              "</div>"
            ],
            "text/plain": [
              "                                                 url  ... rates\n",
              "0  https://www.zomato.com/bangalore/al-swaad-take...  ...  3.1 \n",
              "1  https://www.zomato.com/bangalore/the-boozy-gri...  ...  4.6 \n",
              "2  https://www.zomato.com/bangalore/barkat-btm-ba...  ...  3.4 \n",
              "3  https://www.zomato.com/bangalore/sriracha-lave...  ...  4.3 \n",
              "4  https://www.zomato.com/bangalore/sri-ganesh-ju...  ...  3.7 \n",
              "\n",
              "[5 rows x 17 columns]"
            ]
          },
          "metadata": {
            "tags": []
          },
          "execution_count": 2
        }
      ]
    },
    {
      "cell_type": "code",
      "metadata": {
        "id": "j6ptqKF4u4hK",
        "colab_type": "code",
        "outputId": "8761bf86-305b-4409-8d0e-d993e7b271f4",
        "colab": {
          "base_uri": "https://localhost:8080/",
          "height": 671
        }
      },
      "source": [
        "'''Variable Description'''\n",
        "def description(df):\n",
        "    summary = pd.DataFrame(df.dtypes,columns=['dtypes'])\n",
        "    summary = summary.reset_index()\n",
        "    summary['Name'] = summary['index']\n",
        "    summary = summary[['Name','dtypes']]\n",
        "    summary['Missing'] = df.isnull().sum().values    \n",
        "    summary['Uniques'] = df.nunique().values\n",
        "    summary['First Value'] = df.iloc[0].values\n",
        "    summary['Second Value'] = df.iloc[1].values\n",
        "    summary['Third Value'] = df.iloc[2].values\n",
        "    return summary\n",
        "description(data)"
      ],
      "execution_count": 0,
      "outputs": [
        {
          "output_type": "execute_result",
          "data": {
            "text/html": [
              "<div>\n",
              "<style scoped>\n",
              "    .dataframe tbody tr th:only-of-type {\n",
              "        vertical-align: middle;\n",
              "    }\n",
              "\n",
              "    .dataframe tbody tr th {\n",
              "        vertical-align: top;\n",
              "    }\n",
              "\n",
              "    .dataframe thead th {\n",
              "        text-align: right;\n",
              "    }\n",
              "</style>\n",
              "<table border=\"1\" class=\"dataframe\">\n",
              "  <thead>\n",
              "    <tr style=\"text-align: right;\">\n",
              "      <th></th>\n",
              "      <th>Name</th>\n",
              "      <th>dtypes</th>\n",
              "      <th>Missing</th>\n",
              "      <th>Uniques</th>\n",
              "      <th>First Value</th>\n",
              "      <th>Second Value</th>\n",
              "      <th>Third Value</th>\n",
              "    </tr>\n",
              "  </thead>\n",
              "  <tbody>\n",
              "    <tr>\n",
              "      <th>0</th>\n",
              "      <td>url</td>\n",
              "      <td>object</td>\n",
              "      <td>0</td>\n",
              "      <td>41373</td>\n",
              "      <td>https://www.zomato.com/bangalore/al-swaad-take...</td>\n",
              "      <td>https://www.zomato.com/bangalore/the-boozy-gri...</td>\n",
              "      <td>https://www.zomato.com/bangalore/barkat-btm-ba...</td>\n",
              "    </tr>\n",
              "    <tr>\n",
              "      <th>1</th>\n",
              "      <td>address</td>\n",
              "      <td>object</td>\n",
              "      <td>0</td>\n",
              "      <td>11012</td>\n",
              "      <td>18, Masjid Street, Opp Akbari Masjid Neelasand...</td>\n",
              "      <td>2nd Floor, 1st A Cross Road, Jyothi Nivas Coll...</td>\n",
              "      <td>28th, 8th Cross, Maruthi Nagar, Madiwala, BTM,...</td>\n",
              "    </tr>\n",
              "    <tr>\n",
              "      <th>2</th>\n",
              "      <td>name</td>\n",
              "      <td>object</td>\n",
              "      <td>0</td>\n",
              "      <td>8487</td>\n",
              "      <td>Al Swaad Take Away</td>\n",
              "      <td>The Boozy Griffin</td>\n",
              "      <td>Barkat</td>\n",
              "    </tr>\n",
              "    <tr>\n",
              "      <th>3</th>\n",
              "      <td>online_order</td>\n",
              "      <td>object</td>\n",
              "      <td>0</td>\n",
              "      <td>2</td>\n",
              "      <td>Yes</td>\n",
              "      <td>No</td>\n",
              "      <td>No</td>\n",
              "    </tr>\n",
              "    <tr>\n",
              "      <th>4</th>\n",
              "      <td>book_table</td>\n",
              "      <td>object</td>\n",
              "      <td>0</td>\n",
              "      <td>2</td>\n",
              "      <td>No</td>\n",
              "      <td>Yes</td>\n",
              "      <td>No</td>\n",
              "    </tr>\n",
              "    <tr>\n",
              "      <th>5</th>\n",
              "      <td>votes</td>\n",
              "      <td>int64</td>\n",
              "      <td>0</td>\n",
              "      <td>2203</td>\n",
              "      <td>13</td>\n",
              "      <td>5015</td>\n",
              "      <td>6</td>\n",
              "    </tr>\n",
              "    <tr>\n",
              "      <th>6</th>\n",
              "      <td>phone</td>\n",
              "      <td>object</td>\n",
              "      <td>971</td>\n",
              "      <td>12126</td>\n",
              "      <td>+91 7019942388\\n+91 9902335220</td>\n",
              "      <td>080 33512954</td>\n",
              "      <td>+91 9019670836</td>\n",
              "    </tr>\n",
              "    <tr>\n",
              "      <th>7</th>\n",
              "      <td>location</td>\n",
              "      <td>object</td>\n",
              "      <td>15</td>\n",
              "      <td>93</td>\n",
              "      <td>Richmond Road</td>\n",
              "      <td>Koramangala 5th Block</td>\n",
              "      <td>BTM</td>\n",
              "    </tr>\n",
              "    <tr>\n",
              "      <th>8</th>\n",
              "      <td>rest_type</td>\n",
              "      <td>object</td>\n",
              "      <td>175</td>\n",
              "      <td>93</td>\n",
              "      <td>Quick Bites</td>\n",
              "      <td>Casual Dining, Pub</td>\n",
              "      <td>Quick Bites</td>\n",
              "    </tr>\n",
              "    <tr>\n",
              "      <th>9</th>\n",
              "      <td>dish_liked</td>\n",
              "      <td>object</td>\n",
              "      <td>22472</td>\n",
              "      <td>5026</td>\n",
              "      <td>NaN</td>\n",
              "      <td>Cocktails, Craft Beer, Salads, Devils Chicken,...</td>\n",
              "      <td>NaN</td>\n",
              "    </tr>\n",
              "    <tr>\n",
              "      <th>10</th>\n",
              "      <td>cuisines</td>\n",
              "      <td>object</td>\n",
              "      <td>32</td>\n",
              "      <td>2654</td>\n",
              "      <td>North Indian, South Indian, Arabian</td>\n",
              "      <td>European, Continental</td>\n",
              "      <td>Kerala</td>\n",
              "    </tr>\n",
              "    <tr>\n",
              "      <th>11</th>\n",
              "      <td>approx_cost(for two people)</td>\n",
              "      <td>object</td>\n",
              "      <td>279</td>\n",
              "      <td>68</td>\n",
              "      <td>350</td>\n",
              "      <td>1,800</td>\n",
              "      <td>250</td>\n",
              "    </tr>\n",
              "    <tr>\n",
              "      <th>12</th>\n",
              "      <td>reviews_list</td>\n",
              "      <td>object</td>\n",
              "      <td>0</td>\n",
              "      <td>19556</td>\n",
              "      <td>[('Rated 1.0', 'RATED\\n  If U need reasonable ...</td>\n",
              "      <td>[('Rated 5.0', 'RATED\\n  Really great ambience...</td>\n",
              "      <td>[]</td>\n",
              "    </tr>\n",
              "    <tr>\n",
              "      <th>13</th>\n",
              "      <td>menu_item</td>\n",
              "      <td>object</td>\n",
              "      <td>0</td>\n",
              "      <td>7658</td>\n",
              "      <td>['Beef Seekh Kabab', 'Beef BBQ Chops', 'Beef M...</td>\n",
              "      <td>[]</td>\n",
              "      <td>[]</td>\n",
              "    </tr>\n",
              "    <tr>\n",
              "      <th>14</th>\n",
              "      <td>listed_in(type)</td>\n",
              "      <td>object</td>\n",
              "      <td>0</td>\n",
              "      <td>7</td>\n",
              "      <td>Delivery</td>\n",
              "      <td>Dine-out</td>\n",
              "      <td>Dine-out</td>\n",
              "    </tr>\n",
              "    <tr>\n",
              "      <th>15</th>\n",
              "      <td>listed_in(city)</td>\n",
              "      <td>object</td>\n",
              "      <td>0</td>\n",
              "      <td>30</td>\n",
              "      <td>Residency Road</td>\n",
              "      <td>Koramangala 6th Block</td>\n",
              "      <td>Koramangala 4th Block</td>\n",
              "    </tr>\n",
              "    <tr>\n",
              "      <th>16</th>\n",
              "      <td>rates</td>\n",
              "      <td>object</td>\n",
              "      <td>7981</td>\n",
              "      <td>63</td>\n",
              "      <td>3.1</td>\n",
              "      <td>4.6</td>\n",
              "      <td>3.4</td>\n",
              "    </tr>\n",
              "  </tbody>\n",
              "</table>\n",
              "</div>"
            ],
            "text/plain": [
              "                           Name  ...                                        Third Value\n",
              "0                           url  ...  https://www.zomato.com/bangalore/barkat-btm-ba...\n",
              "1                       address  ...  28th, 8th Cross, Maruthi Nagar, Madiwala, BTM,...\n",
              "2                          name  ...                                             Barkat\n",
              "3                  online_order  ...                                                 No\n",
              "4                    book_table  ...                                                 No\n",
              "5                         votes  ...                                                  6\n",
              "6                         phone  ...                                     +91 9019670836\n",
              "7                      location  ...                                                BTM\n",
              "8                     rest_type  ...                                        Quick Bites\n",
              "9                    dish_liked  ...                                                NaN\n",
              "10                     cuisines  ...                                             Kerala\n",
              "11  approx_cost(for two people)  ...                                                250\n",
              "12                 reviews_list  ...                                                 []\n",
              "13                    menu_item  ...                                                 []\n",
              "14              listed_in(type)  ...                                           Dine-out\n",
              "15              listed_in(city)  ...                              Koramangala 4th Block\n",
              "16                        rates  ...                                               3.4 \n",
              "\n",
              "[17 rows x 7 columns]"
            ]
          },
          "metadata": {
            "tags": []
          },
          "execution_count": 3
        }
      ]
    },
    {
      "cell_type": "markdown",
      "metadata": {
        "id": "S8NAzoEJCHr1",
        "colab_type": "text"
      },
      "source": [
        "# Data Cleaning"
      ]
    },
    {
      "cell_type": "code",
      "metadata": {
        "id": "Mv5YYg2tCFV_",
        "colab_type": "code",
        "colab": {}
      },
      "source": [
        "\"\"\"Droping unnecessary variables\"\"\"\n",
        "data.drop(columns=['url','dish_liked','phone', 'address','name','reviews_list','menu_item'],axis=1, inplace=True)\n",
        "data.drop_duplicates(keep='first',inplace=True)\n",
        "data.dropna(how='any',inplace=True)"
      ],
      "execution_count": 0,
      "outputs": []
    },
    {
      "cell_type": "code",
      "metadata": {
        "id": "YOVUnI3ZEYsx",
        "colab_type": "code",
        "outputId": "d9f1a87c-6adc-4610-a786-4f7db79af243",
        "colab": {
          "base_uri": "https://localhost:8080/",
          "height": 70
        }
      },
      "source": [
        "\"\"\"Changing the Columns Names\"\"\"\n",
        "data = data.rename(columns={'approx_cost(for two people)':'cost','listed_in(type)':'Service_type',\n",
        "                                  'listed_in(city)':'city'})\n",
        "data.columns"
      ],
      "execution_count": 0,
      "outputs": [
        {
          "output_type": "execute_result",
          "data": {
            "text/plain": [
              "Index(['online_order', 'book_table', 'votes', 'location', 'rest_type',\n",
              "       'cuisines', 'cost', 'Service_type', 'city', 'rates'],\n",
              "      dtype='object')"
            ]
          },
          "metadata": {
            "tags": []
          },
          "execution_count": 5
        }
      ]
    },
    {
      "cell_type": "code",
      "metadata": {
        "id": "CwkM0_aSFSFI",
        "colab_type": "code",
        "colab": {}
      },
      "source": [
        "\"\"\"Some Transformations\"\"\"\n",
        "data['cost'] = data['cost'].astype(str)\n",
        "data['cost'] = data['cost'].apply(lambda x: x.replace(',','.'))\n",
        "data['cost'] = data['cost'].astype(float)\n",
        "\n",
        "data = data.loc[data.rates !='-'].reset_index(drop=True)\n",
        "data['rates'] = data['rates'].astype(float)"
      ],
      "execution_count": 0,
      "outputs": []
    },
    {
      "cell_type": "code",
      "metadata": {
        "id": "rAHQbLU2GA7A",
        "colab_type": "code",
        "colab": {}
      },
      "source": [
        "data['restuarant_type'] = data['rest_type'].str.extract('([a-zA-Z ]+)', expand=False).str.strip()\n",
        "data['cuisines_type'] = data['cuisines'].str.extract('([a-zA-Z ]+)', expand=False).str.strip()"
      ],
      "execution_count": 0,
      "outputs": []
    },
    {
      "cell_type": "markdown",
      "metadata": {
        "id": "Y9eyFWDO57tc",
        "colab_type": "text"
      },
      "source": [
        "# EDA"
      ]
    },
    {
      "cell_type": "code",
      "metadata": {
        "id": "CFdKQy_B6zaR",
        "colab_type": "code",
        "outputId": "afef89c1-1499-46ae-bc7f-bedd962930e9",
        "colab": {
          "base_uri": "https://localhost:8080/",
          "height": 343
        }
      },
      "source": [
        "\"\"\"share of online orders\"\"\"\n",
        "plt.rcParams['figure.figsize'] = (8, 5)\n",
        "ax = sns.countplot(data['online_order'], palette = 'CMRmap', alpha = 0.7)\n",
        "ax.set_ylabel('Count', fontsize = 20)\n",
        "ax.set_xlabel('Online Orders', fontsize = 20)\n",
        "plt.show()"
      ],
      "execution_count": 0,
      "outputs": [
        {
          "output_type": "display_data",
          "data": {
            "image/png": "[encoded data removed]",
            "text/plain": [
              "<Figure size 576x360 with 1 Axes>"
            ]
          },
          "metadata": {
            "tags": []
          }
        }
      ]
    },
    {
      "cell_type": "code",
      "metadata": {
        "id": "qRs7fh-g7IJg",
        "colab_type": "code",
        "outputId": "3f871532-0bc2-4927-df8f-15665b61a78c",
        "colab": {
          "base_uri": "https://localhost:8080/",
          "height": 343
        }
      },
      "source": [
        "\"\"\"share of book tables\"\"\"\n",
        "plt.rcParams['figure.figsize'] = (8, 5)\n",
        "ax = sns.countplot(data['book_table'], palette = 'CMRmap', alpha = 0.7)\n",
        "ax.set_ylabel('Count', fontsize = 20)\n",
        "ax.set_xlabel('Book Tables', fontsize = 20)\n",
        "plt.show()"
      ],
      "execution_count": 0,
      "outputs": [
        {
          "output_type": "display_data",
          "data": {
            "image/png": "[encoded data removed]",
            "text/plain": [
              "<Figure size 576x360 with 1 Axes>"
            ]
          },
          "metadata": {
            "tags": []
          }
        }
      ]
    },
    {
      "cell_type": "code",
      "metadata": {
        "id": "o4I_evpH7yPL",
        "colab_type": "code",
        "outputId": "f3ee9888-e564-47a7-80fe-e371e98bc11b",
        "colab": {
          "base_uri": "https://localhost:8080/",
          "height": 343
        }
      },
      "source": [
        "\"\"\"Top 10 Restuarant Type\"\"\"\n",
        "plt.rcParams['figure.figsize'] = (8, 5)\n",
        "temp = data['restuarant_type'].value_counts().reset_index()\n",
        "ax = sns.barplot(data = temp[:10], y = 'index', x='restuarant_type', palette = 'viridis', alpha = 0.7)\n",
        "ax.set_xlabel('Count', fontsize = 20)\n",
        "ax.set_ylabel('Restuarant Type', fontsize = 20)\n",
        "plt.show()"
      ],
      "execution_count": 0,
      "outputs": [
        {
          "output_type": "display_data",
          "data": {
            "image/png": "[encoded data removed]",
            "text/plain": [
              "<Figure size 576x360 with 1 Axes>"
            ]
          },
          "metadata": {
            "tags": []
          }
        }
      ]
    },
    {
      "cell_type": "code",
      "metadata": {
        "id": "in0RexB8LhCI",
        "colab_type": "code",
        "outputId": "d15255e1-0100-44c8-fc01-638adaac70e7",
        "colab": {
          "base_uri": "https://localhost:8080/",
          "height": 343
        }
      },
      "source": [
        "\"\"\"Top 10 Cuisiness Type\"\"\"\n",
        "plt.rcParams['figure.figsize'] = (8, 5)\n",
        "temp = data['cuisines_type'].value_counts().reset_index()\n",
        "ax = sns.barplot(data = temp[:10], y = 'index', x='cuisines_type', palette = 'viridis', alpha = 0.7)\n",
        "ax.set_xlabel('Count', fontsize = 20)\n",
        "ax.set_ylabel('Cuisines Type', fontsize = 20)\n",
        "plt.show()"
      ],
      "execution_count": 0,
      "outputs": [
        {
          "output_type": "display_data",
          "data": {
            "image/png": "[encoded data removed]",
            "text/plain": [
              "<Figure size 576x360 with 1 Axes>"
            ]
          },
          "metadata": {
            "tags": []
          }
        }
      ]
    },
    {
      "cell_type": "code",
      "metadata": {
        "id": "U27NgfHb-q6n",
        "colab_type": "code",
        "outputId": "b7987ae6-eb9e-41b5-ee2c-54f47ef6d44d",
        "colab": {
          "base_uri": "https://localhost:8080/",
          "height": 343
        }
      },
      "source": [
        "plt.rcParams['figure.figsize'] = (8, 5)\n",
        "temp = data['Service_type'].value_counts().reset_index()\n",
        "ax = sns.barplot(data = temp, y = 'index', x='Service_type', palette = 'viridis', alpha = 0.7)\n",
        "ax.set_xlabel('Count', fontsize = 20)\n",
        "ax.set_ylabel('Service Type', fontsize = 20)\n",
        "plt.show()"
      ],
      "execution_count": 0,
      "outputs": [
        {
          "output_type": "display_data",
          "data": {
            "image/png": "[encoded data removed]",
            "text/plain": [
              "<Figure size 576x360 with 1 Axes>"
            ]
          },
          "metadata": {
            "tags": []
          }
        }
      ]
    },
    {
      "cell_type": "code",
      "metadata": {
        "id": "nPaWGwarMVnZ",
        "colab_type": "code",
        "outputId": "3162deb5-04d7-4dac-fdb5-8a23b8ccd17e",
        "colab": {
          "base_uri": "https://localhost:8080/",
          "height": 343
        }
      },
      "source": [
        "\"\"\"Top 10 City with max restuarate\"\"\"\n",
        "plt.rcParams['figure.figsize'] = (8, 5)\n",
        "temp = data['city'].value_counts().reset_index()\n",
        "ax = sns.barplot(data = temp[:10], y = 'index', x='city', palette = 'viridis', alpha = 0.7)\n",
        "ax.set_xlabel('Count', fontsize = 20)\n",
        "ax.set_ylabel('City', fontsize = 20)\n",
        "plt.show()"
      ],
      "execution_count": 0,
      "outputs": [
        {
          "output_type": "display_data",
          "data": {
            "image/png": "[encoded data removed]",
            "text/plain": [
              "<Figure size 576x360 with 1 Axes>"
            ]
          },
          "metadata": {
            "tags": []
          }
        }
      ]
    },
    {
      "cell_type": "code",
      "metadata": {
        "id": "JkKbnLVS-RHs",
        "colab_type": "code",
        "outputId": "6b0e6aea-143b-4d9b-9815-64516afce469",
        "colab": {
          "base_uri": "https://localhost:8080/",
          "height": 364
        }
      },
      "source": [
        "plt.rcParams['figure.figsize'] = (8, 5)\n",
        "ax = sns.distplot(data['cost'],color='teal',bins=20)\n",
        "ax.set_xlabel('Cost (two people)', fontsize = 20)\n",
        "ax.set_ylabel('Count', fontsize = 20)\n",
        "ax.set_title('Distribution of cost', fontsize=20)\n",
        "plt.show()"
      ],
      "execution_count": 0,
      "outputs": [
        {
          "output_type": "display_data",
          "data": {
            "image/png": "[encoded data removed]",
            "text/plain": [
              "<Figure size 576x360 with 1 Axes>"
            ]
          },
          "metadata": {
            "tags": []
          }
        }
      ]
    },
    {
      "cell_type": "code",
      "metadata": {
        "id": "GnU_ADfdGlo1",
        "colab_type": "code",
        "outputId": "0fbd3eed-d9ad-4a7f-c04b-bf7d5f2358c7",
        "colab": {
          "base_uri": "https://localhost:8080/",
          "height": 364
        }
      },
      "source": [
        "plt.rcParams['figure.figsize'] = (8, 5)\n",
        "ax = sns.distplot(data['rates'],color='teal',bins=20)\n",
        "ax.set_xlabel('Ratings', fontsize = 20)\n",
        "ax.set_ylabel('Count', fontsize = 20)\n",
        "ax.set_title('Distribution of Ratings', fontsize=20)\n",
        "plt.show()"
      ],
      "execution_count": 0,
      "outputs": [
        {
          "output_type": "display_data",
          "data": {
            "image/png": "[encoded data removed]",
            "text/plain": [
              "<Figure size 576x360 with 1 Axes>"
            ]
          },
          "metadata": {
            "tags": []
          }
        }
      ]
    },
    {
      "cell_type": "code",
      "metadata": {
        "id": "3m7x3jTlGwtJ",
        "colab_type": "code",
        "outputId": "1c929974-e55b-42cb-d1ab-0506919953fe",
        "colab": {
          "base_uri": "https://localhost:8080/",
          "height": 711
        }
      },
      "source": [
        "plt.rcParams['figure.figsize'] = (8, 5)\n",
        "ax = sns.distplot(data['votes'],color='teal',bins=30)\n",
        "ax.set_xlabel('votes', fontsize = 20)\n",
        "ax.set_ylabel('Count', fontsize = 20)\n",
        "ax.set_title('Distribution of Votes', fontsize=20)\n",
        "plt.show()\n",
        "\n",
        "data['votes'] = np.log1p(data['votes'])\n",
        "plt.rcParams['figure.figsize'] = (8, 5)\n",
        "ax = sns.distplot(data['votes'],color='teal',bins=30)\n",
        "ax.set_xlabel('votes', fontsize = 20)\n",
        "ax.set_ylabel('Count', fontsize = 20)\n",
        "ax.set_title('Distribution of after votes log tranformation', fontsize=20)\n",
        "plt.show()"
      ],
      "execution_count": 0,
      "outputs": [
        {
          "output_type": "display_data",
          "data": {
            "image/png": "[encoded data removed]",
            "text/plain": [
              "<Figure size 576x360 with 1 Axes>"
            ]
          },
          "metadata": {
            "tags": []
          }
        },
        {
          "output_type": "display_data",
          "data": {
            "image/png": "[encoded data removed]",
            "text/plain": [
              "<Figure size 576x360 with 1 Axes>"
            ]
          },
          "metadata": {
            "tags": []
          }
        }
      ]
    },
    {
      "cell_type": "markdown",
      "metadata": {
        "id": "WviEYOqS8ryM",
        "colab_type": "text"
      },
      "source": [
        "# Model Building & Evaluation"
      ]
    },
    {
      "cell_type": "code",
      "metadata": {
        "id": "c2C1D3m_QUr-",
        "colab_type": "code",
        "colab": {}
      },
      "source": [
        "'''Importing the auxiliar and preprocessing librarys'''\n",
        "from sklearn.preprocessing import StandardScaler, MinMaxScaler\n",
        "from sklearn.model_selection import GridSearchCV, KFold, StratifiedKFold, cross_val_score, train_test_split\n",
        "from sklearn.metrics import classification_report, confusion_matrix, accuracy_score\n",
        "from sklearn.pipeline import Pipeline\n",
        "from sklearn.compose import ColumnTransformer\n",
        "from sklearn.preprocessing import OneHotEncoder, LabelEncoder\n",
        "\n",
        "'''Initialize all the regression models object we are interested in.'''\n",
        "from sklearn.linear_model import LinearRegression, Ridge\n",
        "from sklearn.tree import DecisionTreeRegressor\n",
        "from sklearn.ensemble import RandomForestRegressor, ExtraTreesRegressor, AdaBoostRegressor, GradientBoostingRegressor\n",
        "from xgboost import XGBRegressor"
      ],
      "execution_count": 0,
      "outputs": []
    },
    {
      "cell_type": "code",
      "metadata": {
        "id": "ncdAQtDIOYZr",
        "colab_type": "code",
        "colab": {}
      },
      "source": [
        "\"\"\"Setting up X and y\"\"\"\n",
        "X = data[['online_order', 'book_table', 'votes', 'restuarant_type','cuisines_type', 'cost', 'Service_type', 'city']]\n",
        "y = data['rates']\n",
        "\n",
        "# Divide data into training and validation subsets\n",
        "X_train_full, X_valid_full, y_train, y_valid = train_test_split(X, y, train_size=0.8, test_size=0.2,random_state=101)\n",
        "\n",
        "# \"Cardinality\" means the number of unique values in a column\n",
        "# Select categorical columns with relatively low cardinality (convenient but arbitrary)\n",
        "categorical_cols = [cname for cname in X_train_full.columns if X_train_full[cname].dtype == \"object\"]\n",
        "# Select categorical columns with relatively high cardinality (convenient but arbitrary)\n",
        "\n",
        "# Select numerical columns\n",
        "numerical_cols = [cname for cname in X_train_full.columns if X_train_full[cname].dtype in ['int64', 'float64']]\n",
        "\n",
        "# Keep selected columns only\n",
        "my_cols = categorical_cols + numerical_cols\n",
        "X_train = X_train_full[my_cols].copy()\n",
        "X_valid = X_valid_full[my_cols].copy()"
      ],
      "execution_count": 0,
      "outputs": []
    },
    {
      "cell_type": "code",
      "metadata": {
        "id": "x8BP65cnRwO6",
        "colab_type": "code",
        "outputId": "b3920e7c-1223-486b-93ef-dc1f85097f66",
        "colab": {
          "base_uri": "https://localhost:8080/",
          "height": 70
        }
      },
      "source": [
        "\"\"\"Let's have a final look at our data\"\"\"\n",
        "print('Input matrix dimension:', X_train.shape)\n",
        "print('Output vector dimension:',y_train.shape)\n",
        "print('Test data dimension:', X_valid.shape)"
      ],
      "execution_count": 0,
      "outputs": [
        {
          "output_type": "stream",
          "text": [
            "Input matrix dimension: (26372, 8)\n",
            "Output vector dimension: (26372,)\n",
            "Test data dimension: (6594, 8)\n"
          ],
          "name": "stdout"
        }
      ]
    },
    {
      "cell_type": "code",
      "metadata": {
        "id": "kWJoP-7TSgFe",
        "colab_type": "code",
        "colab": {}
      },
      "source": [
        "# Preprocessing for numerical data\n",
        "numerical_transformer = MinMaxScaler()\n",
        "\n",
        "# Preprocessing for categorical data\n",
        "onehot_transformer = Pipeline(steps=[\n",
        "    ('onehot', OneHotEncoder(drop='first'))\n",
        "])\n",
        "\n",
        "# Bundle preprocessing for numerical and categorical data\n",
        "preprocessor = ColumnTransformer(\n",
        "    transformers=[\n",
        "        ('num', numerical_transformer, numerical_cols),\n",
        "        ('oe', onehot_transformer, categorical_cols)\n",
        "    ])"
      ],
      "execution_count": 0,
      "outputs": []
    },
    {
      "cell_type": "code",
      "metadata": {
        "id": "ZcIWxA4oXnGz",
        "colab_type": "code",
        "colab": {}
      },
      "source": [
        "'''Spot-Check Algorithms'''\n",
        "def GetBasedModel():\n",
        "    basedModels = []\n",
        "    \n",
        "    basedModels.append(('LR',\n",
        "                        Pipeline([('preprocessor', preprocessor), \n",
        "                                   ('LR', LinearRegression())])))\n",
        "    basedModels.append(('RC',\n",
        "                        Pipeline([('preprocessor', preprocessor),\n",
        "                                   ('RC', Ridge())])))\n",
        "\n",
        "    basedModels.append(('DT' , \n",
        "                        Pipeline([('preprocessor', preprocessor),\n",
        "                                  ('DT', DecisionTreeRegressor())])))\n",
        "    basedModels.append(('GBM', \n",
        "                         Pipeline([('preprocessor', preprocessor),\n",
        "                                   ('GBM',GradientBoostingRegressor())])))\n",
        "    basedModels.append(('RF' , \n",
        "                        Pipeline([('preprocessor', preprocessor),\n",
        "                                  ('RF',RandomForestRegressor())])))\n",
        "    basedModels.append(('ET' , \n",
        "                         Pipeline([('preprocessor', preprocessor),\n",
        "                                   ('ET', ExtraTreesRegressor())])))\n",
        "    #basedModels.append(('XGB'   , XGBClassifier()))\n",
        "    \n",
        "    return basedModels\n",
        "\n",
        "'''Test options and evaluation metric'''\n",
        "def BasedLine(X_train, y_train, models):\n",
        "    num_folds = 5\n",
        "    scoring = 'neg_mean_squared_error'\n",
        "\n",
        "    results, names = [], []\n",
        "\n",
        "    for name, model in models:\n",
        "        cv_results = cross_val_score(model, X_train, y_train, cv = num_folds, \n",
        "                                scoring = scoring, n_jobs = -1)\n",
        "        names.append(name)\n",
        "        results.append(np.sqrt(-1 * cv_results))\n",
        "        msg = \"%s: %f (+/- %f)\" % (name, np.sqrt(-1 * cv_results).mean(),  \n",
        "                                   np.sqrt(-1 * cv_results).std())\n",
        "        print(msg)\n",
        "    \n",
        "    return names, results"
      ],
      "execution_count": 0,
      "outputs": []
    },
    {
      "cell_type": "code",
      "metadata": {
        "id": "AvcO7NqwR8q1",
        "colab_type": "code",
        "outputId": "1db4f624-51e9-4d85-d535-88a1d8f72c34",
        "colab": {
          "base_uri": "https://localhost:8080/",
          "height": 178
        }
      },
      "source": [
        "models = GetBasedModel()\n",
        "names,results = BasedLine(X_train, y_train,models)"
      ],
      "execution_count": 0,
      "outputs": [
        {
          "output_type": "stream",
          "text": [
            "LR: 0.313150 (+/- 0.006963)\n",
            "RC: 0.313343 (+/- 0.007037)\n",
            "DT: 0.261350 (+/- 0.008296)\n",
            "GBM: 0.304840 (+/- 0.007313)\n"
          ],
          "name": "stdout"
        },
        {
          "output_type": "stream",
          "text": [
            "/usr/local/lib/python3.6/dist-packages/joblib/externals/loky/process_executor.py:706: UserWarning: A worker stopped while some jobs were given to the executor. This can be caused by a too short worker timeout or by a memory leak.\n",
            "  \"timeout or by a memory leak.\", UserWarning\n"
          ],
          "name": "stderr"
        },
        {
          "output_type": "stream",
          "text": [
            "RF: 0.205984 (+/- 0.006911)\n",
            "ET: 0.213720 (+/- 0.007701)\n"
          ],
          "name": "stdout"
        }
      ]
    },
    {
      "cell_type": "code",
      "metadata": {
        "id": "eVYXD7ezFgxJ",
        "colab_type": "code",
        "colab": {}
      },
      "source": [
        "seed = 44\n",
        "def grid_search_cv(model, params):\n",
        "    global best_params, best_score\n",
        "    grid_search = GridSearchCV(estimator = model, param_grid = params, cv = 10, verbose = 3,\n",
        "                             scoring = 'neg_mean_squared_error', n_jobs = -1)\n",
        "    grid_search.fit(X_train, y_train)\n",
        "    best_params = grid_search.best_params_\n",
        "    best_score = grid_search.best_score_\n",
        "    \n",
        "    return best_params, best_score"
      ],
      "execution_count": 0,
      "outputs": []
    },
    {
      "cell_type": "code",
      "metadata": {
        "colab_type": "code",
        "id": "pPJASVwYhp9A",
        "outputId": "b4eb9eb7-e5b7-43c3-fb51-512f6ca08ecd",
        "colab": {
          "base_uri": "https://localhost:8080/",
          "height": 122
        }
      },
      "source": [
        "# Optimizing best scored model\n",
        "'''Define hyperparameters of ExtraTreesRegressor.'''\n",
        "RC_model = Pipeline([('preprocessor', preprocessor),\n",
        "                                   ('RC', Ridge())])\n",
        "RC_params = {'RC__alpha':[0.5, 2.5, 3.3, 5, 5.5, 7, 9, 9.5, 9.52, 9.64, 9.7, \n",
        "                      9.8, 9.9, 10, 10.5,10.62,10.85, 20, 30],\n",
        "             'RC__random_state': [seed]}\n",
        "\n",
        "grid_search_cv(RC_model, RC_params)\n",
        "RC_best_params, RC_best_score = best_params, best_score\n",
        "print('RC best params:{} & best_score:{:0.5f}' .format(RC_best_params, RC_best_score))"
      ],
      "execution_count": 0,
      "outputs": [
        {
          "output_type": "stream",
          "text": [
            "Fitting 10 folds for each of 19 candidates, totalling 190 fits\n"
          ],
          "name": "stdout"
        },
        {
          "output_type": "stream",
          "text": [
            "[Parallel(n_jobs=-1)]: Using backend LokyBackend with 2 concurrent workers.\n",
            "[Parallel(n_jobs=-1)]: Done  28 tasks      | elapsed:    4.6s\n",
            "[Parallel(n_jobs=-1)]: Done 124 tasks      | elapsed:   14.8s\n"
          ],
          "name": "stderr"
        },
        {
          "output_type": "stream",
          "text": [
            "RC best params:{'RC__alpha': 0.5, 'RC__random_state': 44} & best_score:-0.09820\n"
          ],
          "name": "stdout"
        },
        {
          "output_type": "stream",
          "text": [
            "[Parallel(n_jobs=-1)]: Done 190 out of 190 | elapsed:   21.5s finished\n"
          ],
          "name": "stderr"
        }
      ]
    },
    {
      "cell_type": "code",
      "metadata": {
        "id": "vShzOP_YcmsV",
        "colab_type": "code",
        "outputId": "7112cd3d-3e3a-4aaa-8870-debe9ce0bb51",
        "colab": {
          "base_uri": "https://localhost:8080/",
          "height": 34
        }
      },
      "source": [
        "rc = Pipeline([('preprocessor', preprocessor),\n",
        "                                   ('RC', Ridge(alpha = 0.5))])\n",
        "rc.fit(X_train,y_train)\n",
        "pred = rc.predict(X_valid)\n",
        "pred = np.round(pred,1)\n",
        "from sklearn.metrics import r2_score\n",
        "r2_score(y_valid, pred)"
      ],
      "execution_count": 0,
      "outputs": [
        {
          "output_type": "execute_result",
          "data": {
            "text/plain": [
              "0.4933919433320044"
            ]
          },
          "metadata": {
            "tags": []
          },
          "execution_count": 55
        }
      ]
    },
    {
      "cell_type": "code",
      "metadata": {
        "id": "bPB_MvrthknL",
        "colab_type": "code",
        "outputId": "7ae75811-e3d4-4735-b3da-ab1a4afae3f6",
        "colab": {
          "base_uri": "https://localhost:8080/",
          "height": 34
        }
      },
      "source": [
        "pred"
      ],
      "execution_count": 0,
      "outputs": [
        {
          "output_type": "execute_result",
          "data": {
            "text/plain": [
              "array([3.9, 3.3, 3.5, ..., 3.3, 3.8, 3.2])"
            ]
          },
          "metadata": {
            "tags": []
          },
          "execution_count": 56
        }
      ]
    }
  ]
}